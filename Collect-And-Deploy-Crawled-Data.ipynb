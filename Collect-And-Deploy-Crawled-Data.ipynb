{
 "cells": [
  {
   "cell_type": "code",
   "execution_count": 4,
   "metadata": {},
   "outputs": [],
   "source": [
    "import pandas as pd\n",
    "import os"
   ]
  },
  {
   "cell_type": "code",
   "execution_count": 12,
   "metadata": {},
   "outputs": [],
   "source": [
    "path = r\"/1979-2022-csv-files\""
   ]
  },
  {
   "cell_type": "code",
   "execution_count": 35,
   "metadata": {},
   "outputs": [],
   "source": [
    "dir_list = os.listdir(path)\n",
    "\n",
    "full_dir_list = []\n",
    "for item in dir_list:\n",
    "    full_dir_list.append(os.path.join(path, item))\n",
    "\n",
    "combined_csv = pd.concat( [ pd.read_csv(f) for f in full_dir_list ] ) \n",
    "\n",
    "combined_csv = combined_csv.dropna(thresh=5)\n",
    "\n",
    "#combined_csv.to_csv( \"all-acl-articles.csv\", index=False )"
   ]
  },
  {
   "cell_type": "code",
   "execution_count": 47,
   "metadata": {},
   "outputs": [],
   "source": [
    "other_csv = pd.read_csv(r'D:/atricles/acl_2022_articles-final-final.csv')\n",
    "\n",
    "combined_csv = pd.concat([combined_csv, other_csv])\n",
    "\n",
    "combined_csv.to_csv( \"all-acl-articles.csv\", index=False )"
   ]
  },
  {
   "cell_type": "code",
   "execution_count": 48,
   "metadata": {},
   "outputs": [
    {
     "name": "stdout",
     "output_type": "stream",
     "text": [
      "12519\n"
     ]
    }
   ],
   "source": [
    "print(len(combined_csv))"
   ]
  },
  {
   "cell_type": "code",
   "execution_count": 49,
   "metadata": {},
   "outputs": [
    {
     "name": "stdout",
     "output_type": "stream",
     "text": [
      "Year: 1979 29\n",
      "Year: 1980 45\n",
      "Year: 1981 37\n",
      "Year: 1982 40\n",
      "Year: 1983 26\n",
      "Year: 1984 117\n",
      "Year: 1985 41\n",
      "Year: 1986 42\n",
      "Year: 1987 35\n",
      "Year: 1988 36\n",
      "Year: 1989 35\n",
      "Year: 1990 40\n",
      "Year: 1991 57\n",
      "Year: 1992 55\n",
      "Year: 1993 48\n",
      "Year: 1994 53\n",
      "Year: 1995 57\n",
      "Year: 1996 59\n",
      "Year: 1997 74\n",
      "Year: 1998 252\n",
      "Year: 1999 84\n",
      "Year: 2000 143\n",
      "Year: 2001 71\n",
      "Year: 2002 66\n",
      "Year: 2003 114\n",
      "Year: 2004 137\n",
      "Year: 2005 137\n",
      "Year: 2006 311\n",
      "Year: 2007 207\n",
      "Year: 2008 219\n",
      "Year: 2009 248\n",
      "Year: 2010 274\n",
      "Year: 2011 349\n",
      "Year: 2012 253\n",
      "Year: 2013 399\n",
      "Year: 2014 333\n",
      "Year: 2015 363\n",
      "Year: 2016 390\n",
      "Year: 2017 357\n",
      "Year: 2018 674\n",
      "Year: 2019 1449\n",
      "Year: 2020 1263\n",
      "Year: 2021 1849\n",
      "Year: 2022 1651\n"
     ]
    }
   ],
   "source": [
    "for i in range(1979, 2023):\n",
    "    print(\"Year:\", i, len(combined_csv[(combined_csv['Year of Publish'] == i)]))"
   ]
  }
 ],
 "metadata": {
  "kernelspec": {
   "display_name": "Python 3.9.11 64-bit",
   "language": "python",
   "name": "python3"
  },
  "language_info": {
   "codemirror_mode": {
    "name": "ipython",
    "version": 3
   },
   "file_extension": ".py",
   "mimetype": "text/x-python",
   "name": "python",
   "nbconvert_exporter": "python",
   "pygments_lexer": "ipython3",
   "version": "3.9.11"
  },
  "orig_nbformat": 4,
  "vscode": {
   "interpreter": {
    "hash": "14958d3aee5f1cad06795f787e54b96185c25fb40dfec723a5be941f3a531b8c"
   }
  }
 },
 "nbformat": 4,
 "nbformat_minor": 2
}
