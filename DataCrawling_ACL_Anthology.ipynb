{
  "nbformat": 4,
  "nbformat_minor": 0,
  "metadata": {
    "colab": {
      "name": "DataCrawling-ACL-Anthology.ipynb",
      "provenance": [],
      "collapsed_sections": [],
      "authorship_tag": "ABX9TyMIQ32NcXawdH0bkDzwDDxT",
      "include_colab_link": true
    },
    "kernelspec": {
      "name": "python3",
      "display_name": "Python 3"
    },
    "language_info": {
      "name": "python"
    }
  },
  "cells": [
    {
      "cell_type": "markdown",
      "metadata": {
        "id": "view-in-github",
        "colab_type": "text"
      },
      "source": [
        "<a href=\"https://colab.research.google.com/github/faezesarlakifar/SBU-NLPLab-Internship/blob/main/DataCrawling_ACL_Anthology.ipynb\" target=\"_parent\"><img src=\"https://colab.research.google.com/assets/colab-badge.svg\" alt=\"Open In Colab\"/></a>"
      ]
    },
    {
      "cell_type": "markdown",
      "source": [
        "## Import Libraries"
      ],
      "metadata": {
        "id": "5xrsfsEE9TJv"
      }
    },
    {
      "cell_type": "code",
      "execution_count": 4,
      "metadata": {
        "id": "9lRE5_Kj9MUg"
      },
      "outputs": [],
      "source": [
        "from bs4 import BeautifulSoup\n",
        "import json\n",
        "import numpy as np\n",
        "import requests\n",
        "import os \n",
        "from tqdm import tqdm\n",
        "import csv"
      ]
    },
    {
      "cell_type": "markdown",
      "source": [
        "## Define Constants "
      ],
      "metadata": {
        "id": "lOCW6HS59sxa"
      }
    },
    {
      "cell_type": "code",
      "source": [
        "page_url = \"https://aclanthology.org/events/acl-2022\"\n",
        "conf_name = 'acl_2022_articles'\n",
        "conf_id = '2022-acl-long'"
      ],
      "metadata": {
        "id": "gTb72Ulb-FTc"
      },
      "execution_count": 3,
      "outputs": []
    },
    {
      "cell_type": "code",
      "source": [
        "html_doc = requests.get(page_url).text\n",
        "soup = BeautifulSoup(html_doc, 'html.parser')\n",
        "\n",
        "main_papers = soup.find('div', id = conf_id).find_all('p', class_ = \"d-sm-flex\")\n",
        "\n",
        "paper_list = []\n",
        "counter = 0\n",
        "for paper_p in main_papers:\n",
        "    pdf_url = paper_p.contents[0].contents[0]['href']\n",
        "    paper_span = paper_p.contents[-1]\n",
        "    assert paper_span.name == 'span'\n",
        "    paper_a = paper_span.strong.a\n",
        "    title = paper_a.get_text()\n",
        "    strs = paper_span.get_text().split('|')\n",
        "    authors = strs[1:]\n",
        "    \n",
        "    \n",
        "    cleaned_authors = []\n",
        "    for author in authors:\n",
        "        author = author.strip('\\n')\n",
        "        cleaned_authors.append(author)\n",
        "        \n",
        "    authors = ', '.join(cleaned_authors) \n",
        "    \n",
        "    query = \"allintitle: \"\n",
        "    query += title\n",
        "    \n",
        "    if(len(cleaned_authors) != 0):\n",
        "        query += \" author: \"\n",
        "        author_ = cleaned_authors[0].split(' ')\n",
        "        query += author_[0]\n",
        "\n",
        "    url = \"https://aclanthology.org\" + paper_a['href']\n",
        "    \n",
        "    #TODO find citation\n",
        "\n",
        "    paper_list.append([title, url, pdf_url, authors])\n",
        "    "
      ],
      "metadata": {
        "id": "3-t73pym_5SD"
      },
      "execution_count": 6,
      "outputs": []
    },
    {
      "cell_type": "code",
      "source": [
        "print('There are total {} papers'.format(len(paper_list))) "
      ],
      "metadata": {
        "colab": {
          "base_uri": "https://localhost:8080/"
        },
        "id": "u0K8hSJlBNki",
        "outputId": "224a5389-4bad-4f26-9a2e-8c64bfcf2fe6"
      },
      "execution_count": 7,
      "outputs": [
        {
          "output_type": "stream",
          "name": "stdout",
          "text": [
            "There are total 604 papers\n"
          ]
        }
      ]
    },
    {
      "cell_type": "markdown",
      "source": [
        "## Make a .csv file "
      ],
      "metadata": {
        "id": "X4XokdpSBZr9"
      }
    },
    {
      "cell_type": "code",
      "source": [
        "fields = ['Title', 'URL', 'PDF_URL', 'Authors'] \n",
        "\n",
        "with open('All_Articles_temp12.csv', 'w') as f:\n",
        "      \n",
        "    # using csv.writer method from CSV package\n",
        "    write = csv.writer(f)\n",
        "      \n",
        "    write.writerow(fields)\n",
        "    write.writerows(paper_list)"
      ],
      "metadata": {
        "id": "1q0UzciPBEOS"
      },
      "execution_count": 8,
      "outputs": []
    },
    {
      "cell_type": "markdown",
      "source": [
        "## Download and save full PDFs"
      ],
      "metadata": {
        "id": "2U0M9Q9-Bc5b"
      }
    },
    {
      "cell_type": "code",
      "source": [
        "if not os.path.exists(conf_name):\n",
        "    os.mkdir(conf_name)\n",
        "\n",
        "illegal_chr = r'\\/:*?<>|'\n",
        "table = ''.maketrans('', '', illegal_chr)\n",
        "for i, paper in tqdm(list(enumerate(paper_list))):\n",
        "    r = requests.get(paper[2])\n",
        "    n = '{}.{}.pdf'.format(i+1, paper[0].translate(table))\n",
        "    with open('./{}/{}'.format(conf_name, n), 'wb') as f:\n",
        "        f.write(r.content) "
      ],
      "metadata": {
        "id": "2GqW5Pv7Fem_"
      },
      "execution_count": null,
      "outputs": []
    }
  ]
}