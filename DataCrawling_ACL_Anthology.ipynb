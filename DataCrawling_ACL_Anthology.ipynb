{
  "cells": [
    {
      "cell_type": "markdown",
      "metadata": {
        "colab_type": "text",
        "id": "view-in-github"
      },
      "source": [
        "<a href=\"https://colab.research.google.com/github/faezesarlakifar/SBU-NLPLab-Internship/blob/main/DataCrawling_ACL_Anthology.ipynb\" target=\"_parent\"><img src=\"https://colab.research.google.com/assets/colab-badge.svg\" alt=\"Open In Colab\"/></a>"
      ]
    },
    {
      "cell_type": "markdown",
      "metadata": {
        "id": "5xrsfsEE9TJv"
      },
      "source": [
        "## Import Libraries"
      ]
    },
    {
      "cell_type": "code",
      "execution_count": 17,
      "metadata": {
        "id": "9lRE5_Kj9MUg"
      },
      "outputs": [],
      "source": [
        "from bs4 import BeautifulSoup\n",
        "import json\n",
        "import numpy as np\n",
        "import requests\n",
        "import os \n",
        "from tqdm import tqdm\n",
        "import csv\n",
        "import lxml "
      ]
    },
    {
      "cell_type": "markdown",
      "metadata": {
        "id": "lOCW6HS59sxa"
      },
      "source": [
        "## Define Constants "
      ]
    },
    {
      "cell_type": "code",
      "execution_count": 6,
      "metadata": {
        "id": "gTb72Ulb-FTc"
      },
      "outputs": [],
      "source": [
        "page_url = \"https://aclanthology.org/events/acl-2022\"\n",
        "conf_name = 'acl_2022_articles'\n",
        "conf_id = '2022-acl-long'"
      ]
    },
    {
      "cell_type": "code",
      "execution_count": 7,
      "metadata": {},
      "outputs": [],
      "source": [
        "page_url = \"https://aclanthology.org/events/acl-2022\"\n",
        "conf_name = 'acl_2022_articles-1'\n",
        "conf_id = '2022-acl-short' "
      ]
    },
    {
      "cell_type": "code",
      "execution_count": 17,
      "metadata": {},
      "outputs": [],
      "source": [
        "page_url = \"https://aclanthology.org/events/acl-2022\"\n",
        "conf_name = 'acl_2022_articles-2'\n",
        "conf_id = '2022-acl-srw' "
      ]
    },
    {
      "cell_type": "code",
      "execution_count": 22,
      "metadata": {},
      "outputs": [],
      "source": [
        "conf_name = 'acl_2022_articles-3'\n",
        "conf_id = '2022-acl-demo' "
      ]
    },
    {
      "cell_type": "code",
      "execution_count": 29,
      "metadata": {},
      "outputs": [],
      "source": [
        "conf_name = 'acl_2022_articles-4'\n",
        "conf_id = '2022-acl-tutorials'"
      ]
    },
    {
      "cell_type": "code",
      "execution_count": 39,
      "metadata": {},
      "outputs": [],
      "source": [
        "conf_name = 'acl_2022_articles-5'\n",
        "conf_id = '2022-bigscience-1'"
      ]
    },
    {
      "cell_type": "code",
      "execution_count": 7,
      "metadata": {},
      "outputs": [],
      "source": [
        "conf_name = 'acl_2022_articles-6'\n",
        "conf_id = '2022-bionlp-1' "
      ]
    },
    {
      "cell_type": "code",
      "execution_count": null,
      "metadata": {},
      "outputs": [],
      "source": [
        "conf_name = 'acl_2022_articles-7'\n",
        "conf_id = '2022-cmcl-1' "
      ]
    },
    {
      "cell_type": "code",
      "execution_count": null,
      "metadata": {},
      "outputs": [],
      "source": [
        "conf_name = 'acl_2022_articles-8'\n",
        "conf_id = '2022-computel-1'"
      ]
    },
    {
      "cell_type": "code",
      "execution_count": null,
      "metadata": {},
      "outputs": [],
      "source": [
        "conf_name = 'acl_2022_articles-9'\n",
        "conf_id = '2022-constraint-1'"
      ]
    },
    {
      "cell_type": "code",
      "execution_count": 18,
      "metadata": {},
      "outputs": [],
      "source": [
        "page_url = \"https://aclanthology.org/events/acl-2022\"\n",
        "conf_name = 'acl_2022_articles-final'\n",
        "\n",
        "conf_ids = ['2022-bionlp-1', '2022-cmcl-1', '2022-computel-1', '2022-constraint-1', '2022-csrr-1',\n",
        "'2022-deelio-1', '2022-dialdoc-1', '2022-dravidianlangtech-1', '2022-ecnlp-1', '2022-fever-1',\n",
        "'2022-findings-acl', '2022-fl4nlp-1', '2022-humeval-1', '2022-in2writing-1', '2022-spnlp-1', '2022-wassa-1', '2022-wit-1']"
      ]
    },
    {
      "cell_type": "code",
      "execution_count": 27,
      "metadata": {
        "id": "3-t73pym_5SD"
      },
      "outputs": [
        {
          "name": "stdout",
          "output_type": "stream",
          "text": [
            "2022-bionlp-1\n",
            "There is 44 papers now\n",
            "2022-cmcl-1\n",
            "There is 17 papers now\n",
            "2022-computel-1\n",
            "There is 24 papers now\n",
            "2022-constraint-1\n",
            "There is 12 papers now\n",
            "2022-csrr-1\n",
            "There is 8 papers now\n",
            "2022-deelio-1\n",
            "There is 11 papers now\n",
            "2022-dialdoc-1\n",
            "There is 22 papers now\n",
            "2022-dravidianlangtech-1\n",
            "There is 45 papers now\n",
            "2022-ecnlp-1\n",
            "There is 30 papers now\n",
            "2022-fever-1\n",
            "There is 9 papers now\n",
            "2022-findings-acl\n",
            "There is 332 papers now\n",
            "2022-fl4nlp-1\n",
            "There is 5 papers now\n",
            "2022-humeval-1\n",
            "There is 11 papers now\n",
            "2022-in2writing-1\n",
            "There is 15 papers now\n",
            "2022-spnlp-1\n",
            "There is 8 papers now\n",
            "2022-wassa-1\n",
            "There is 36 papers now\n",
            "2022-wit-1\n",
            "There is 4 papers now\n"
          ]
        }
      ],
      "source": [
        "html_doc = requests.get(page_url).text\n",
        "soup = BeautifulSoup(html_doc, 'html.parser')\n",
        "\n",
        "paper_lists = []\n",
        "\n",
        "for item in conf_ids:\n",
        "\n",
        "    conf_id = item\n",
        "\n",
        "    print( conf_id)\n",
        "\n",
        "    main_papers = soup.find('div', id = conf_id).find_all('p', class_ = \"d-sm-flex\")\n",
        "\n",
        "    paper_list = []\n",
        "\n",
        "    counter = 0\n",
        "    for paper_p in main_papers:\n",
        "        pdf_url = paper_p.contents[0].contents[0]['href']\n",
        "        paper_span = paper_p.contents[-1]\n",
        "        assert paper_span.name == 'span'\n",
        "        paper_a = paper_span.strong.a\n",
        "        title = paper_a.get_text()\n",
        "        strs = paper_span.get_text().split('|')\n",
        "        authors = strs[1:]\n",
        "        \n",
        "        \n",
        "        cleaned_authors = []\n",
        "        for author in authors:\n",
        "            author = author.strip('\\n')\n",
        "            cleaned_authors.append(author)\n",
        "            \n",
        "        authors = ', '.join(cleaned_authors) \n",
        "        \n",
        "        query = \"allintitle: \"\n",
        "        query += title\n",
        "        \n",
        "        if(len(cleaned_authors) != 0):\n",
        "            query += \" author: \"\n",
        "            author_ = cleaned_authors[0].split(' ')\n",
        "            query += author_[0]\n",
        "\n",
        "        url = \"https://aclanthology.org\" + paper_a['href']\n",
        "        \n",
        "        headers = {\n",
        "        'User-agent':\n",
        "        \"Mozilla/5.0 (Windows NT 10.0; Win64; x64) AppleWebKit/537.36 (KHTML, like Gecko) Chrome/70.0.3538.102 Safari/537.36 Edge/18.19582\"   \n",
        "        }\n",
        "        \n",
        "        params = {\n",
        "            \"q\": query \n",
        "        }\n",
        "\n",
        "        html = requests.get('https://scholar.google.com/scholar', headers=headers, params=params).text\n",
        "        soup_1 = BeautifulSoup(html, 'lxml')\n",
        "\n",
        "        citation = \"0\"\n",
        "        for result in soup_1.select('.gs_ri'):\n",
        "            citation_finder = result.select('.gs_fl')\n",
        "            strs = []\n",
        "            \n",
        "            for x in citation_finder:\n",
        "                strs.append(str(x))\n",
        "\n",
        "            citation_finder = ''.join(strs)\n",
        "            #print(citation_finder)\n",
        "    \n",
        "            try:\n",
        "                finded_index = citation_finder.find('Cited by')\n",
        "                #print(finded_index) \n",
        "                finded_index  += 9 \n",
        "                #print(citation_finder[finded_index])\n",
        "                if(citation_finder[finded_index].isdigit()):\n",
        "                    citation = str(citation_finder[finded_index]) \n",
        "                    finded = finded_index + 1\n",
        "                    #print(finded)\n",
        "                    for i in range(len(citation_finder)-finded_index ):\n",
        "                        if(citation_finder[finded].isdigit() == False):\n",
        "                            break\n",
        "                        else:\n",
        "                            citation += citation_finder[finded]\n",
        "                            finded += 1\n",
        "                else:\n",
        "                    citation = \"0\"\n",
        "            except: \n",
        "                citation = \"0\"\n",
        "\n",
        "\n",
        "        paper_list.append([title, url, pdf_url, authors, citation])\n",
        "    \n",
        "    print('There is {} papers now'.format(len(paper_list))) \n",
        "    \n",
        "    paper_lists.append(paper_list)\n",
        "    "
      ]
    },
    {
      "cell_type": "code",
      "execution_count": 30,
      "metadata": {},
      "outputs": [],
      "source": [
        "final_paper_list = []\n",
        "for list_ in paper_lists:\n",
        "    final_paper_list.extend(list_)"
      ]
    },
    {
      "cell_type": "code",
      "execution_count": 31,
      "metadata": {},
      "outputs": [
        {
          "name": "stdout",
          "output_type": "stream",
          "text": [
            "There are total 633 papers\n"
          ]
        }
      ],
      "source": [
        "print('There are total {} papers'.format(len(final_paper_list))) "
      ]
    },
    {
      "cell_type": "code",
      "execution_count": 32,
      "metadata": {
        "colab": {
          "base_uri": "https://localhost:8080/"
        },
        "id": "u0K8hSJlBNki",
        "outputId": "224a5389-4bad-4f26-9a2e-8c64bfcf2fe6"
      },
      "outputs": [],
      "source": [
        "paper_lists = final_paper_list"
      ]
    },
    {
      "cell_type": "markdown",
      "metadata": {
        "id": "X4XokdpSBZr9"
      },
      "source": [
        "## Make a .csv file "
      ]
    },
    {
      "cell_type": "code",
      "execution_count": 34,
      "metadata": {
        "id": "1q0UzciPBEOS"
      },
      "outputs": [],
      "source": [
        "fields = ['Title', 'URL', 'PDF_URL', 'Authors', 'Citation'] \n",
        "\n",
        "name = conf_name + \".csv\" \n",
        "\n",
        "with open(name, 'w', encoding='utf8') as f:\n",
        "      \n",
        "    # using csv.writer method from CSV package\n",
        "    write = csv.writer(f)\n",
        "      \n",
        "    write.writerow(fields)\n",
        "    write.writerows(paper_lists)"
      ]
    },
    {
      "cell_type": "markdown",
      "metadata": {
        "id": "2U0M9Q9-Bc5b"
      },
      "source": [
        "## Download and save full PDFs"
      ]
    },
    {
      "cell_type": "code",
      "execution_count": 35,
      "metadata": {
        "id": "2GqW5Pv7Fem_"
      },
      "outputs": [
        {
          "name": "stderr",
          "output_type": "stream",
          "text": [
            "  3%|▎         | 19/633 [00:33<17:00,  1.66s/it]"
          ]
        }
      ],
      "source": [
        "if not os.path.exists(conf_name):\n",
        "    os.mkdir(conf_name)\n",
        "\n",
        "illegal_chr = r'\\/:*?<>|'\n",
        "table = ''.maketrans('', '', illegal_chr)\n",
        "for i, paper in tqdm(list(enumerate(paper_lists))):\n",
        "    r = requests.get(paper[2])\n",
        "    n = '{}.{}.pdf'.format(i+1, paper[0].translate(table))\n",
        "    with open('./{}/{}'.format(conf_name, n), 'wb') as f:\n",
        "        f.write(r.content) "
      ]
    }
  ],
  "metadata": {
    "colab": {
      "authorship_tag": "ABX9TyMIQ32NcXawdH0bkDzwDDxT",
      "collapsed_sections": [],
      "include_colab_link": true,
      "name": "DataCrawling-ACL-Anthology.ipynb",
      "provenance": []
    },
    "kernelspec": {
      "display_name": "Python 3.9.11 64-bit",
      "language": "python",
      "name": "python3"
    },
    "language_info": {
      "codemirror_mode": {
        "name": "ipython",
        "version": 3
      },
      "file_extension": ".py",
      "mimetype": "text/x-python",
      "name": "python",
      "nbconvert_exporter": "python",
      "pygments_lexer": "ipython3",
      "version": "3.9.11"
    },
    "vscode": {
      "interpreter": {
        "hash": "14958d3aee5f1cad06795f787e54b96185c25fb40dfec723a5be941f3a531b8c"
      }
    }
  },
  "nbformat": 4,
  "nbformat_minor": 0
}
