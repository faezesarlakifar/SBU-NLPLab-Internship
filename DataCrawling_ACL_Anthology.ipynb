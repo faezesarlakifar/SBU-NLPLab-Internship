{
  "cells": [
    {
      "cell_type": "markdown",
      "metadata": {
        "colab_type": "text",
        "id": "view-in-github"
      },
      "source": [
        "<a href=\"https://colab.research.google.com/github/faezesarlakifar/SBU-NLPLab-Internship/blob/main/DataCrawling_ACL_Anthology.ipynb\" target=\"_parent\"><img src=\"https://colab.research.google.com/assets/colab-badge.svg\" alt=\"Open In Colab\"/></a>"
      ]
    },
    {
      "cell_type": "markdown",
      "metadata": {
        "id": "5xrsfsEE9TJv"
      },
      "source": [
        "# Import Libraries"
      ]
    },
    {
      "cell_type": "code",
      "execution_count": 54,
      "metadata": {
        "id": "9lRE5_Kj9MUg"
      },
      "outputs": [],
      "source": [
        "from bs4 import BeautifulSoup\n",
        "import json\n",
        "import numpy as np\n",
        "import requests\n",
        "import os \n",
        "from tqdm import tqdm\n",
        "import csv\n",
        "import lxml \n",
        "import re"
      ]
    },
    {
      "cell_type": "code",
      "execution_count": 231,
      "metadata": {},
      "outputs": [],
      "source": [
        "def setup(event, year):\n",
        "    st  = \"https://aclanthology.org/events/\"\n",
        "    page_url = st + event + \"-\" + str(year)\n",
        "    conf_name = event + \"_\" + str(year) + \"_articles-final\"\n",
        "\n",
        "    return page_url, conf_name"
      ]
    },
    {
      "cell_type": "markdown",
      "metadata": {
        "id": "lOCW6HS59sxa"
      },
      "source": [
        "# Define Constants "
      ]
    },
    {
      "cell_type": "markdown",
      "metadata": {},
      "source": [
        "## acl event"
      ]
    },
    {
      "cell_type": "markdown",
      "metadata": {},
      "source": [
        "##### acl-2022"
      ]
    },
    {
      "cell_type": "code",
      "execution_count": 172,
      "metadata": {},
      "outputs": [],
      "source": [
        "page_url = \"https://aclanthology.org/events/acl-2022\"\n",
        "conf_name = 'acl_2022_articles-final'\n",
        "\n",
        "conf_ids = ['2022-acl-long', '2022-acl-short', '2022-acl-srw', '2022-acl-demo', '2022-acl-tutorials',\n",
        "'2022-bigscience-1', '2022-bionlp-1', '2022-cmcl-1', '2022-computel-1', '2022-constraint-1', '2022-csrr-1',\n",
        "'2022-deelio-1', '2022-dialdoc-1', '2022-dravidianlangtech-1', '2022-ecnlp-1', '2022-fever-1',\n",
        "'2022-findings-acl', '2022-fl4nlp-1', '2022-humeval-1', '2022-in2writing-1', '2022-spnlp-1', '2022-wassa-1', '2022-wit-1']"
      ]
    },
    {
      "cell_type": "markdown",
      "metadata": {},
      "source": [
        "##### acl-2021"
      ]
    },
    {
      "cell_type": "code",
      "execution_count": 178,
      "metadata": {},
      "outputs": [],
      "source": [
        "page_url = \"https://aclanthology.org/events/acl-2021\"\n",
        "conf_name = 'acl_2021_articles-final'\n",
        "\n",
        "conf_ids = ['2021-acl-long', '2021-acl-short', '2021-acl-srw', '2021-acl-demo', '2021-acl-tutorials', '2021-bppf-1', \n",
        "'2021-case-1', '2021-dialdoc-1', '2021-ecnlp-1', '2021-findings-acl', '2021-gebnlp-1', '2021-gem-1', '2021-internlp-1',\n",
        "'2021-iwpt-1', '2021-iwslt-1', '2021-lchange-1', '2021-metanlp-1', '2021-mwe-1', '2021-nlp4posimpact-1', '2021-nlp4prog-1',\n",
        "'2021-repl4nlp-1', '2021-semeval-1', '2021-sigmorphon-1', '2021-splurobonlp-1', '2021-spnlp-1', '2021-starsem-1', '2021-unimplicit-1',\n",
        "'2021-wat-1', '2021-woah-1']  "
      ]
    },
    {
      "cell_type": "markdown",
      "metadata": {},
      "source": [
        "##### acl-2020"
      ]
    },
    {
      "cell_type": "code",
      "execution_count": 184,
      "metadata": {},
      "outputs": [],
      "source": [
        "page_url = \"https://aclanthology.org/events/acl-2020\"\n",
        "conf_name = 'acl_2020_articles-final'\n",
        "\n",
        "conf_ids = ['2020-acl-main', '2020-acl-demos', '2020-acl-srw', '2020-acl-tutorials', '2020-alvr-1', '2020-autosimtrans-1',\n",
        "'2020-bea-1', '2020-bionlp-1', '2020-challengehml-1', '2020-ecnlp-1', '2020-fever-1', '2020-figlang-1', '2020-iwpt-1', '2020-iwslt-1',\n",
        "'2020-ngt-1', '2020-nli-1', '2020-nlp4convai-1', '2020-nlpcovid19-acl', '2020-nlpmc-1', '2020-nuse-1', '2020-repl4nlp-1',\n",
        "'2020-sigmorphon-1', '2020-socialnlp-1', '2020-winlp-1']  "
      ]
    },
    {
      "cell_type": "markdown",
      "metadata": {},
      "source": [
        "##### acl-2019"
      ]
    },
    {
      "cell_type": "code",
      "execution_count": 190,
      "metadata": {},
      "outputs": [],
      "source": [
        "page_url = \"https://aclanthology.org/events/acl-2019\"\n",
        "\n",
        "conf_name = 'acl_2019_articles-final'\n",
        "\n",
        "conf_ids = ['p19-1', 'p19-2', 'p19-3', 'p19-4', 'w19-32', 'w19-33', 'w19-34', 'w19-35', 'w19-36', 'w19-37', 'w19-38','w19-39','w19-40',\n",
        "'w19-41', 'w19-42', 'w19-43', 'w19-44', 'w19-45', 'w19-46', 'w19-47', 'w19-48', 'w19-49', 'w19-50', 'w19-51', 'w19-52', 'w19-53', 'w19-54']  "
      ]
    },
    {
      "cell_type": "markdown",
      "metadata": {},
      "source": [
        "##### acl-2018"
      ]
    },
    {
      "cell_type": "code",
      "execution_count": 197,
      "metadata": {},
      "outputs": [
        {
          "name": "stdout",
          "output_type": "stream",
          "text": [
            "['p18-1', 'p18-2', 'p18-3', 'p18-4', 'p18-5', 'w18-23', 'w18-24', 'w18-25', 'w18-26', 'w18-27', 'w18-28', 'w18-29', 'w18-30', 'w18-31', 'w18-32', 'w18-33', 'w18-34', 'w18-35', 'w18-36', 'w18-37']\n"
          ]
        }
      ],
      "source": [
        "page_url = \"https://aclanthology.org/events/acl-2018\"\n",
        "\n",
        "conf_name = 'acl_2018_articles-final'\n",
        "\n",
        "conf_ids = []\n",
        "for i in range(1, 6):\n",
        "    st = \"p18-\" + str(i)\n",
        "    conf_ids.append(st)\n",
        "\n",
        "for i in range(23, 38):\n",
        "    st = \"w18-\" + str(i)\n",
        "    conf_ids.append(st)\n",
        "\n",
        "print(conf_ids) "
      ]
    },
    {
      "cell_type": "markdown",
      "metadata": {},
      "source": [
        "##### acl-2017"
      ]
    },
    {
      "cell_type": "code",
      "execution_count": 204,
      "metadata": {},
      "outputs": [
        {
          "name": "stdout",
          "output_type": "stream",
          "text": [
            "['p17-1', 'p17-2', 'p17-3', 'p17-4', 'p17-5']\n"
          ]
        }
      ],
      "source": [
        "page_url = \"https://aclanthology.org/events/acl-2017\"\n",
        "\n",
        "conf_name = 'acl_2017_articles-final'\n",
        "\n",
        "conf_ids = []\n",
        "for i in range(1, 6):\n",
        "    st = \"p17-\" + str(i)\n",
        "    conf_ids.append(st)\n",
        "\n",
        "print(conf_ids) "
      ]
    },
    {
      "cell_type": "markdown",
      "metadata": {},
      "source": [
        "##### acl-2016"
      ]
    },
    {
      "cell_type": "code",
      "execution_count": 210,
      "metadata": {},
      "outputs": [
        {
          "name": "stdout",
          "output_type": "stream",
          "text": [
            "['p16-1', 'p16-2', 'p16-3', 'p16-4', 'p16-5']\n"
          ]
        }
      ],
      "source": [
        "page_url = \"https://aclanthology.org/events/acl-2016\"\n",
        "\n",
        "conf_name = 'acl_2016_articles-final'\n",
        "\n",
        "conf_ids = []\n",
        "for i in range(1, 6):\n",
        "    st = \"p16-\" + str(i)\n",
        "    conf_ids.append(st)\n",
        "\n",
        "print(conf_ids) "
      ]
    },
    {
      "cell_type": "markdown",
      "metadata": {},
      "source": [
        "##### acl-2015"
      ]
    },
    {
      "cell_type": "code",
      "execution_count": 217,
      "metadata": {},
      "outputs": [
        {
          "name": "stdout",
          "output_type": "stream",
          "text": [
            "['p15-1', 'p15-2', 'p15-3', 'p15-4', 'p15-5']\n"
          ]
        }
      ],
      "source": [
        "page_url = \"https://aclanthology.org/events/acl-2015\"\n",
        "\n",
        "conf_name = 'acl_2015_articles-final'\n",
        "\n",
        "conf_ids = []\n",
        "for i in range(1, 6):\n",
        "    st = \"p15-\" + str(i)\n",
        "    conf_ids.append(st)\n",
        "\n",
        "print(conf_ids) "
      ]
    },
    {
      "cell_type": "markdown",
      "metadata": {},
      "source": [
        "##### acl-2014"
      ]
    },
    {
      "cell_type": "code",
      "execution_count": 225,
      "metadata": {},
      "outputs": [
        {
          "name": "stdout",
          "output_type": "stream",
          "text": [
            "['p14-1', 'p14-2', 'p14-3', 'p14-5', 'p14-6']\n"
          ]
        }
      ],
      "source": [
        "page_url = \"https://aclanthology.org/events/acl-2014\"\n",
        "\n",
        "conf_name = 'acl_2014_articles-final'\n",
        "\n",
        "conf_ids = []\n",
        "for i in range(1, 7):\n",
        "    if(i == 4):\n",
        "        continue\n",
        "    st = \"p14-\" + str(i)\n",
        "    conf_ids.append(st)\n",
        "\n",
        "print(conf_ids) "
      ]
    },
    {
      "cell_type": "markdown",
      "metadata": {},
      "source": [
        "##### acl-2013"
      ]
    },
    {
      "cell_type": "code",
      "execution_count": 162,
      "metadata": {},
      "outputs": [
        {
          "name": "stdout",
          "output_type": "stream",
          "text": [
            "['p13-1', 'p13-2', 'p13-3', 'p13-4', 'p13-5']\n"
          ]
        }
      ],
      "source": [
        "page_url = \"https://aclanthology.org/events/acl-2013\"\n",
        "\n",
        "conf_name = 'acl_2013_articles-final'\n",
        "\n",
        "conf_ids = []\n",
        "for i in range(1, 6):\n",
        "    st = \"p13-\" + str(i)\n",
        "    conf_ids.append(st)\n",
        "\n",
        "print(conf_ids) "
      ]
    },
    {
      "cell_type": "markdown",
      "metadata": {},
      "source": [
        "##### acl (2012 - 1079)"
      ]
    },
    {
      "cell_type": "code",
      "execution_count": 232,
      "metadata": {},
      "outputs": [],
      "source": [
        "page_urls = []\n",
        "conf_names = []\n",
        "for i in range(1979, 2013):\n",
        "    page_url, conf_name = setup(\"acl\", i)\n",
        "    page_urls.append(page_url)\n",
        "    conf_names.append(conf_name)"
      ]
    },
    {
      "cell_type": "code",
      "execution_count": 233,
      "metadata": {},
      "outputs": [],
      "source": [
        "def set_config_ids(year, tag, start_index, end_index):\n",
        "    conf_ids = []\n",
        "    for i in range(start_index, end_index):\n",
        "        st = tag + year + \"-\" + str(i)\n",
        "        conf_ids.append(st)\n",
        "\n",
        "    return conf_ids"
      ]
    },
    {
      "cell_type": "code",
      "execution_count": 238,
      "metadata": {},
      "outputs": [],
      "source": [
        "all_conf_ids = []\n",
        "\n",
        "for i in range(1979, 1998):\n",
        "    x = i - 1900\n",
        "    conf_ids = set_config_ids(str(x), \"p\", 1, 2)\n",
        "    all_conf_ids.append(conf_ids) \n",
        "\n",
        "conf_ids = set_config_ids(\"98\", \"p\", 1, 3)\n",
        "all_conf_ids.append(conf_ids)\n",
        "\n",
        "conf_ids = set_config_ids(\"99\", \"p\", 1, 2)\n",
        "all_conf_ids.append(conf_ids)\n",
        "\n",
        "conf_ids_1 = set_config_ids(\"00\", \"p\", 1, 2)\n",
        "conf_ids_2 = set_config_ids(\"00\", \"w\", 11, 14)\n",
        "conf_ids = [] \n",
        "conf_ids.extend(conf_ids_1)\n",
        "conf_ids.extend(conf_ids_2)\n",
        "all_conf_ids.append(conf_ids)\n",
        "\n",
        "conf_ids = set_config_ids(\"01\", \"p\", 1, 2)\n",
        "all_conf_ids.append(conf_ids)\n",
        "\n",
        "conf_ids = set_config_ids(\"02\", \"p\", 1, 2)\n",
        "all_conf_ids.append(conf_ids)\n",
        "\n",
        "conf_ids = set_config_ids(\"03\", \"p\", 1, 3)\n",
        "all_conf_ids.append(conf_ids)\n",
        "\n",
        "conf_ids = set_config_ids(\"04\", \"p\", 1, 4)\n",
        "all_conf_ids.append(conf_ids)\n",
        "\n",
        "conf_ids = set_config_ids(\"05\", \"p\", 1, 4)\n",
        "all_conf_ids.append(conf_ids)\n",
        "\n",
        "conf_ids = set_config_ids(\"06\", \"p\", 1, 5)\n",
        "all_conf_ids.append(conf_ids)\n",
        "\n",
        "conf_ids = set_config_ids(\"07\", \"p\", 1, 4)\n",
        "all_conf_ids.append(conf_ids)\n",
        "\n",
        "for i in range(2008, 2012):\n",
        "    x = i - 2000\n",
        "    if(x == 8 | x == 9):\n",
        "        x = \"0\" + str(x)\n",
        "    else:\n",
        "        x = str(x)\n",
        "    conf_ids = set_config_ids(x, \"p\", 1, 6)\n",
        "    all_conf_ids.append(conf_ids)\n",
        "\n",
        "conf_ids_1 = set_config_ids(\"12\", \"p\", 1, 5)\n",
        "conf_ids_2 = set_config_ids(\"12\", \"w\", 32, 34)\n",
        "conf_ids = []\n",
        "conf_ids.extend(conf_ids_1)\n",
        "conf_ids.extend(conf_ids_2)\n",
        "all_conf_ids.append(conf_ids)\n"
      ]
    },
    {
      "cell_type": "code",
      "execution_count": 239,
      "metadata": {},
      "outputs": [
        {
          "name": "stdout",
          "output_type": "stream",
          "text": [
            "[['p79-1'], ['p80-1'], ['p81-1'], ['p82-1'], ['p83-1'], ['p84-1'], ['p85-1'], ['p86-1'], ['p87-1'], ['p88-1'], ['p89-1'], ['p90-1'], ['p91-1'], ['p92-1'], ['p93-1'], ['p94-1'], ['p95-1'], ['p96-1'], ['p97-1'], ['p98-1', 'p98-2'], ['p99-1'], ['p00-1', 'w00-11', 'w00-12', 'w00-13'], ['p01-1'], ['p02-1'], ['p03-1', 'p03-2'], ['p04-1', 'p04-2', 'p04-3'], ['p05-1', 'p05-2', 'p05-3'], ['p06-1', 'p06-2', 'p06-3', 'p06-4'], ['p07-1', 'p07-2', 'p07-3'], ['p8-1', 'p8-2', 'p8-3', 'p8-4', 'p8-5'], ['p09-1', 'p09-2', 'p09-3', 'p09-4', 'p09-5'], ['p10-1', 'p10-2', 'p10-3', 'p10-4', 'p10-5'], ['p11-1', 'p11-2', 'p11-3', 'p11-4', 'p11-5'], ['p12-1', 'p12-2', 'p12-3', 'p12-4', 'w12-32', 'w12-33']]\n"
          ]
        }
      ],
      "source": [
        "print(all_conf_ids)"
      ]
    },
    {
      "cell_type": "markdown",
      "metadata": {},
      "source": [
        "### anlp-2000 event"
      ]
    },
    {
      "cell_type": "code",
      "execution_count": null,
      "metadata": {},
      "outputs": [],
      "source": [
        "page_url = \"https://aclanthology.org/events/anlp-2000\"\n",
        "conf_name = 'anlp_2000_articles-final'\n",
        "\n",
        "conf_ids = ['a00-1', 'a00-2', 'a00-3', 'a00-4']  "
      ]
    },
    {
      "cell_type": "markdown",
      "metadata": {},
      "source": [
        "### emlp-2019 event"
      ]
    },
    {
      "cell_type": "code",
      "execution_count": null,
      "metadata": {},
      "outputs": [],
      "source": [
        "page_url = \"https://aclanthology.org/events/emnlp-2019\"\n",
        "conf_name = 'emnlp-2019_articles-final'\n",
        "conf_ids = ['2020-acl-main', '2020-acl-demos', '2020-acl-srw', '2020-acl-tutorials', '2020-alvr-1', '2020-autosimtrans-1',\n",
        "'2020-bea-1', '2020-bionlp-1', '2020-challengehml-1', '2020-ecnlp-1', '2020-fever-1', '2020-figlang-1', '2020-iwpt-1', '2020-iwslt-1',\n",
        "'2020-ngt-1', '2020-nli-1', '2020-nlp4convai-1', '2020-nlpcovid19-acl', '2020-nlpmc-1', '2020-nuse-1', '2020-repl4nlp-1',\n",
        "'2020-sigmorphon-1', '2020-socialnlp-1', '2020-winlp-1']  "
      ]
    },
    {
      "cell_type": "code",
      "execution_count": 226,
      "metadata": {
        "id": "3-t73pym_5SD"
      },
      "outputs": [
        {
          "name": "stdout",
          "output_type": "stream",
          "text": [
            "p14-1\n",
            "There is 148 papers now\n",
            "p14-2\n",
            "There is 140 papers now\n",
            "p14-3\n",
            "There is 14 papers now\n",
            "p14-5\n",
            "There is 22 papers now\n",
            "p14-6\n",
            "There is 9 papers now\n"
          ]
        }
      ],
      "source": [
        "html_doc = requests.get(page_url).text\n",
        "soup = BeautifulSoup(html_doc, 'html.parser')\n",
        "\n",
        "paper_lists = []\n",
        "for item in conf_ids:\n",
        "\n",
        "\n",
        "    conf_id = item\n",
        "\n",
        "    print(conf_id)\n",
        "\n",
        "    main_papers = soup.find('div', id = conf_id).find_all('p', class_ = \"d-sm-flex\")\n",
        "\n",
        "    paper_list = []\n",
        "\n",
        "    counter = 0\n",
        "    for paper_p in main_papers:\n",
        "        pdf_url = paper_p.contents[0].contents[0]['href']\n",
        "        paper_span = paper_p.contents[-1]\n",
        "        assert paper_span.name == 'span'\n",
        "        paper_a = paper_span.strong.a\n",
        "        title = paper_a.get_text()\n",
        "        strs = paper_span.get_text().split('|')\n",
        "        authors = strs[1:]\n",
        "            \n",
        "            \n",
        "        cleaned_authors = []\n",
        "        for author in authors:\n",
        "            author = author.strip('\\n')\n",
        "            cleaned_authors.append(author)\n",
        "            \n",
        "        authors = ', '.join(cleaned_authors) \n",
        "            \n",
        "        query = \"allintitle: \"\n",
        "        query += title\n",
        "            \n",
        "        if(len(cleaned_authors) != 0):\n",
        "            query += \" author: \"\n",
        "            author_ = cleaned_authors[0].split(' ')\n",
        "            query += author_[0]\n",
        "\n",
        "        url = \"https://aclanthology.org\" + paper_a['href']\n",
        "            \n",
        "        headers = {\n",
        "            'User-agent':\n",
        "            \"Mozilla/5.0 (Windows NT 10.0; Win64; x64) AppleWebKit/537.36 (KHTML, like Gecko) Chrome/70.0.3538.102 Safari/537.36 Edge/18.19582\"   \n",
        "        }\n",
        "            \n",
        "        params = {\n",
        "                \"q\": query \n",
        "        }\n",
        "\n",
        "        html = requests.get('https://scholar.google.com/scholar', headers=headers, params=params).text\n",
        "        soup_1 = BeautifulSoup(html, 'lxml')\n",
        "\n",
        "        citation = \"0\"\n",
        "        for result in soup_1.select('.gs_ri'):\n",
        "            citation_finder = result.select('.gs_fl')\n",
        "            strs = []\n",
        "            \n",
        "            for x in citation_finder:\n",
        "                strs.append(str(x))\n",
        "\n",
        "            citation_finder = ''.join(strs)\n",
        "        \n",
        "            try:\n",
        "                finded_index = citation_finder.find('Cited by')\n",
        "\n",
        "                finded_index  += 9 \n",
        "\n",
        "                if(citation_finder[finded_index].isdigit()):\n",
        "                    citation = str(citation_finder[finded_index]) \n",
        "                    finded = finded_index + 1\n",
        "           \n",
        "                    for i in range(len(citation_finder)-finded_index ):\n",
        "                        if(citation_finder[finded].isdigit() == False):\n",
        "                            break\n",
        "                        else:\n",
        "                            citation += citation_finder[finded]\n",
        "                            finded += 1\n",
        "                else:\n",
        "                    citation = \"0\"\n",
        "            except: \n",
        "                citation = \"0\"\n",
        "\n",
        "\n",
        "        paper_list.append([title, url, pdf_url, authors, citation])\n",
        "    \n",
        "    print('There is {} papers now'.format(len(paper_list))) \n",
        "        \n",
        "    paper_lists.append(paper_list)\n",
        "\n",
        "        \n",
        "    "
      ]
    },
    {
      "cell_type": "code",
      "execution_count": 227,
      "metadata": {},
      "outputs": [],
      "source": [
        "final_paper_list = []\n",
        "for list_ in paper_lists:\n",
        "    final_paper_list.extend(list_)"
      ]
    },
    {
      "cell_type": "code",
      "execution_count": 228,
      "metadata": {},
      "outputs": [
        {
          "name": "stdout",
          "output_type": "stream",
          "text": [
            "There are total 333 papers\n"
          ]
        }
      ],
      "source": [
        "print('There are total {} papers'.format(len(final_paper_list))) "
      ]
    },
    {
      "cell_type": "code",
      "execution_count": 229,
      "metadata": {
        "colab": {
          "base_uri": "https://localhost:8080/"
        },
        "id": "u0K8hSJlBNki",
        "outputId": "224a5389-4bad-4f26-9a2e-8c64bfcf2fe6"
      },
      "outputs": [],
      "source": [
        "paper_lists = final_paper_list"
      ]
    },
    {
      "cell_type": "markdown",
      "metadata": {
        "id": "X4XokdpSBZr9"
      },
      "source": [
        "## Make a .csv file "
      ]
    },
    {
      "cell_type": "code",
      "execution_count": 230,
      "metadata": {
        "id": "1q0UzciPBEOS"
      },
      "outputs": [],
      "source": [
        "fields = ['Title', 'URL', 'PDF_URL', 'Authors', 'Citation'] \n",
        "\n",
        "name = conf_name + \"-final.csv\" \n",
        "\n",
        "with open(name, 'w', encoding='utf8') as f:\n",
        "      \n",
        "    # using csv.writer method from CSV package\n",
        "    write = csv.writer(f)\n",
        "    \n",
        "    write.writerow(fields)\n",
        "    write.writerows(paper_lists)"
      ]
    },
    {
      "cell_type": "markdown",
      "metadata": {
        "id": "2U0M9Q9-Bc5b"
      },
      "source": [
        "## Download and save full PDFs"
      ]
    },
    {
      "cell_type": "code",
      "execution_count": 168,
      "metadata": {},
      "outputs": [
        {
          "name": "stderr",
          "output_type": "stream",
          "text": [
            "100%|██████████| 399/399 [11:08<00:00,  1.68s/it]\n"
          ]
        }
      ],
      "source": [
        "#conf_name = conf_name + \"-1\"\n",
        "if not os.path.exists(conf_name):\n",
        "    os.mkdir(conf_name)\n",
        "\n",
        "illegal_chr = r'\\/:*?<>|'\n",
        "table = ''.maketrans('', '', illegal_chr)\n",
        "i = 0\n",
        "for i, paper in tqdm(list(enumerate(paper_lists))):\n",
        "    if(i > -1):\n",
        "        #print(paper[2])\n",
        "        r = requests.get(paper[2])\n",
        "\n",
        "        n = '{}.{}.pdf'.format(i+1, paper[0].translate(table))\n",
        "        with open('./{}/{}'.format(conf_name, n), 'wb') as f:\n",
        "            f.write(r.content) \n",
        "    i += 1"
      ]
    }
  ],
  "metadata": {
    "colab": {
      "authorship_tag": "ABX9TyMIQ32NcXawdH0bkDzwDDxT",
      "collapsed_sections": [],
      "include_colab_link": true,
      "name": "DataCrawling-ACL-Anthology.ipynb",
      "provenance": []
    },
    "kernelspec": {
      "display_name": "Python 3.9.11 64-bit",
      "language": "python",
      "name": "python3"
    },
    "language_info": {
      "codemirror_mode": {
        "name": "ipython",
        "version": 3
      },
      "file_extension": ".py",
      "mimetype": "text/x-python",
      "name": "python",
      "nbconvert_exporter": "python",
      "pygments_lexer": "ipython3",
      "version": "3.9.11"
    },
    "vscode": {
      "interpreter": {
        "hash": "14958d3aee5f1cad06795f787e54b96185c25fb40dfec723a5be941f3a531b8c"
      }
    }
  },
  "nbformat": 4,
  "nbformat_minor": 0
}
