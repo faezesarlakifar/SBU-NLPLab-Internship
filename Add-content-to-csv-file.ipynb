{
 "cells": [
  {
   "cell_type": "code",
   "execution_count": 1,
   "metadata": {},
   "outputs": [],
   "source": [
    "import pandas as pd\n",
    "import os\n",
    "from tika import parser"
   ]
  },
  {
   "cell_type": "code",
   "execution_count": 2,
   "metadata": {},
   "outputs": [],
   "source": [
    "path = r\"D:\\atricles\\all-acl-articles.csv\"\n",
    "path2 = r\"D:\\atricles\\all_acl_articles\""
   ]
  },
  {
   "cell_type": "code",
   "execution_count": 3,
   "metadata": {},
   "outputs": [],
   "source": [
    "dir_list = os.listdir(path2)\n",
    "\n",
    "full_dir_list = []\n",
    "for item in dir_list:\n",
    "    full_dir_list.append(os.path.join(path2, item))\n",
    "\n",
    "\n",
    "#print(full_dir_list[0])"
   ]
  },
  {
   "cell_type": "code",
   "execution_count": 4,
   "metadata": {},
   "outputs": [
    {
     "data": {
      "text/html": [
       "<div>\n",
       "<style scoped>\n",
       "    .dataframe tbody tr th:only-of-type {\n",
       "        vertical-align: middle;\n",
       "    }\n",
       "\n",
       "    .dataframe tbody tr th {\n",
       "        vertical-align: top;\n",
       "    }\n",
       "\n",
       "    .dataframe thead th {\n",
       "        text-align: right;\n",
       "    }\n",
       "</style>\n",
       "<table border=\"1\" class=\"dataframe\">\n",
       "  <thead>\n",
       "    <tr style=\"text-align: right;\">\n",
       "      <th></th>\n",
       "      <th>Title</th>\n",
       "      <th>URL</th>\n",
       "      <th>PDF_URL</th>\n",
       "      <th>Authors</th>\n",
       "      <th>Citation</th>\n",
       "      <th>Year of Publish</th>\n",
       "      <th>Content</th>\n",
       "      <th>The Rest of Content</th>\n",
       "    </tr>\n",
       "  </thead>\n",
       "  <tbody>\n",
       "    <tr>\n",
       "      <th>0</th>\n",
       "      <td>17th Annual Meeting of the Association for Com...</td>\n",
       "      <td>https://aclanthology.org/P79-1000/</td>\n",
       "      <td>https://aclanthology.org/P79-1000.pdf</td>\n",
       "      <td>NaN</td>\n",
       "      <td>0</td>\n",
       "      <td>1979</td>\n",
       "      <td>NaN</td>\n",
       "      <td>NaN</td>\n",
       "    </tr>\n",
       "    <tr>\n",
       "      <th>1</th>\n",
       "      <td>Syntactic Processing</td>\n",
       "      <td>https://aclanthology.org/P79-1001/</td>\n",
       "      <td>https://aclanthology.org/P79-1001.pdf</td>\n",
       "      <td>NaN</td>\n",
       "      <td>73</td>\n",
       "      <td>1979</td>\n",
       "      <td>NaN</td>\n",
       "      <td>NaN</td>\n",
       "    </tr>\n",
       "    <tr>\n",
       "      <th>2</th>\n",
       "      <td>Towards a Self-Extending Parser</td>\n",
       "      <td>https://aclanthology.org/P79-1002/</td>\n",
       "      <td>https://aclanthology.org/P79-1002.pdf</td>\n",
       "      <td>NaN</td>\n",
       "      <td>72</td>\n",
       "      <td>1979</td>\n",
       "      <td>NaN</td>\n",
       "      <td>NaN</td>\n",
       "    </tr>\n",
       "    <tr>\n",
       "      <th>3</th>\n",
       "      <td>Word Expert Parsing</td>\n",
       "      <td>https://aclanthology.org/P79-1003/</td>\n",
       "      <td>https://aclanthology.org/P79-1003.pdf</td>\n",
       "      <td>NaN</td>\n",
       "      <td>13</td>\n",
       "      <td>1979</td>\n",
       "      <td>NaN</td>\n",
       "      <td>NaN</td>\n",
       "    </tr>\n",
       "    <tr>\n",
       "      <th>4</th>\n",
       "      <td>Schank/Riesbeck vs. Norman/Rumelhart: What’s t...</td>\n",
       "      <td>https://aclanthology.org/P79-1004/</td>\n",
       "      <td>https://aclanthology.org/P79-1004.pdf</td>\n",
       "      <td>NaN</td>\n",
       "      <td>0</td>\n",
       "      <td>1979</td>\n",
       "      <td>NaN</td>\n",
       "      <td>NaN</td>\n",
       "    </tr>\n",
       "  </tbody>\n",
       "</table>\n",
       "</div>"
      ],
      "text/plain": [
       "                                               Title  \\\n",
       "0  17th Annual Meeting of the Association for Com...   \n",
       "1                               Syntactic Processing   \n",
       "2                    Towards a Self-Extending Parser   \n",
       "3                                Word Expert Parsing   \n",
       "4  Schank/Riesbeck vs. Norman/Rumelhart: What’s t...   \n",
       "\n",
       "                                  URL                                PDF_URL  \\\n",
       "0  https://aclanthology.org/P79-1000/  https://aclanthology.org/P79-1000.pdf   \n",
       "1  https://aclanthology.org/P79-1001/  https://aclanthology.org/P79-1001.pdf   \n",
       "2  https://aclanthology.org/P79-1002/  https://aclanthology.org/P79-1002.pdf   \n",
       "3  https://aclanthology.org/P79-1003/  https://aclanthology.org/P79-1003.pdf   \n",
       "4  https://aclanthology.org/P79-1004/  https://aclanthology.org/P79-1004.pdf   \n",
       "\n",
       "  Authors  Citation  Year of Publish  Content  The Rest of Content  \n",
       "0     NaN         0             1979      NaN                  NaN  \n",
       "1     NaN        73             1979      NaN                  NaN  \n",
       "2     NaN        72             1979      NaN                  NaN  \n",
       "3     NaN        13             1979      NaN                  NaN  \n",
       "4     NaN         0             1979      NaN                  NaN  "
      ]
     },
     "execution_count": 4,
     "metadata": {},
     "output_type": "execute_result"
    }
   ],
   "source": [
    "df = pd.read_csv(path) \n",
    "\n",
    "df.head()"
   ]
  },
  {
   "cell_type": "code",
   "execution_count": 5,
   "metadata": {},
   "outputs": [],
   "source": [
    "finded_titles = []\n",
    "for item in dir_list:\n",
    "    index = item.find(\".\") + 1\n",
    "    last_index = item.rfind(\".\")\n",
    "    finded_title = item[index:last_index]\n",
    "    finded_titles.append(finded_title)\n",
    "\n",
    "#print(finded_titles[0]) "
   ]
  },
  {
   "cell_type": "code",
   "execution_count": 6,
   "metadata": {},
   "outputs": [
    {
     "name": "stdout",
     "output_type": "stream",
     "text": [
      "                                               Title  \\\n",
      "0  17th Annual Meeting of the Association for Com...   \n",
      "\n",
      "                                  URL                                PDF_URL  \\\n",
      "0  https://aclanthology.org/P79-1000/  https://aclanthology.org/P79-1000.pdf   \n",
      "\n",
      "  Authors  Citation  Year of Publish  Content  The Rest of Content  \n",
      "0     NaN         0             1979      NaN                  NaN  \n"
     ]
    }
   ],
   "source": [
    "x = df.loc[df['Title'] == finded_titles[0]]\n",
    "\n",
    "print(x) "
   ]
  },
  {
   "cell_type": "code",
   "execution_count": null,
   "metadata": {},
   "outputs": [],
   "source": [
    "for i in range(len(finded_titles)):\n",
    "    finded = finded_titles[i]\n",
    "\n",
    "    try:\n",
    "        raw = parser.from_file(full_dir_list[i])\n",
    "        pdf_content = raw['content']\n",
    "        pdf_content = pdf_content.replace(\"\\n\", \" \")\n",
    "        pdf_content = pdf_content.replace(\",\", \" \")\n",
    "        pdf_content = pdf_content.encode('utf-8', errors='ignore')\n",
    "\n",
    "        #print(pdf_content)\n",
    "        df.loc[df['Title'] == finded, 'Content'] = pdf_content\n",
    "    except:\n",
    "        pass"
   ]
  },
  {
   "cell_type": "code",
   "execution_count": null,
   "metadata": {},
   "outputs": [],
   "source": [
    "df.to_csv('all-acl-articles-with-content.csv', index=False) "
   ]
  }
 ],
 "metadata": {
  "kernelspec": {
   "display_name": "Python 3.9.11 64-bit",
   "language": "python",
   "name": "python3"
  },
  "language_info": {
   "codemirror_mode": {
    "name": "ipython",
    "version": 3
   },
   "file_extension": ".py",
   "mimetype": "text/x-python",
   "name": "python",
   "nbconvert_exporter": "python",
   "pygments_lexer": "ipython3",
   "version": "3.9.11"
  },
  "orig_nbformat": 4,
  "vscode": {
   "interpreter": {
    "hash": "14958d3aee5f1cad06795f787e54b96185c25fb40dfec723a5be941f3a531b8c"
   }
  }
 },
 "nbformat": 4,
 "nbformat_minor": 2
}
