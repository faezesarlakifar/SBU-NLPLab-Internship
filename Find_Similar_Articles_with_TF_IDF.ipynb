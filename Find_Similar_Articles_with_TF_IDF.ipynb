{
  "cells": [
    {
      "cell_type": "markdown",
      "metadata": {
        "colab_type": "text",
        "id": "view-in-github"
      },
      "source": [
        "<a href=\"https://colab.research.google.com/github/faezesarlakifar/SBU-NLPLab-Internship/blob/main/Find_Similar_Articles_with_TF_IDF.ipynb\" target=\"_parent\"><img src=\"https://colab.research.google.com/assets/colab-badge.svg\" alt=\"Open In Colab\"/></a>"
      ]
    },
    {
      "cell_type": "markdown",
      "id": "7fafcd42",
      "metadata": {},
      "source": [
        "reference code:\n",
        "\n",
        "https://www.kaggle.com/code/yclaudel/find-similar-articles-with-tf-idf/notebook"
      ]
    },
    {
      "cell_type": "code",
      "execution_count": null,
      "id": "efd6a568",
      "metadata": {
        "id": "efd6a568"
      },
      "outputs": [],
      "source": [
        "import numpy as np\n",
        "import pandas as pd\n",
        "import pickle\n",
        "from sklearn.feature_extraction.text import TfidfVectorizer\n",
        "from sklearn.metrics.pairwise import linear_kernel\n",
        "from sklearn.cluster import MiniBatchKMeans "
      ]
    },
    {
      "cell_type": "markdown",
      "id": "10Gd4qZUoyNt",
      "metadata": {
        "id": "10Gd4qZUoyNt"
      },
      "source": [
        "# Read the articles "
      ]
    },
    {
      "cell_type": "code",
      "execution_count": null,
      "id": "94c24e3e",
      "metadata": {
        "id": "94c24e3e"
      },
      "outputs": [],
      "source": [
        "X = pd.read_csv(r\"../atricles/all-acl-articles-with-content.csv\") \n",
        "X = X.dropna(thresh=3)  \n",
        "X = X.dropna(subset = ['Content']) \n",
        "X = X.reset_index(drop=True) "
      ]
    },
    {
      "cell_type": "markdown",
      "id": "OOJJSo6go50w",
      "metadata": {
        "id": "OOJJSo6go50w"
      },
      "source": [
        "# Preview data"
      ]
    },
    {
      "cell_type": "code",
      "execution_count": null,
      "id": "b495ebd1",
      "metadata": {
        "id": "b495ebd1",
        "outputId": "1c454cfb-920e-4aeb-e1c7-bc49d35c509d"
      },
      "outputs": [
        {
          "data": {
            "text/html": [
              "<div>\n",
              "<style scoped>\n",
              "    .dataframe tbody tr th:only-of-type {\n",
              "        vertical-align: middle;\n",
              "    }\n",
              "\n",
              "    .dataframe tbody tr th {\n",
              "        vertical-align: top;\n",
              "    }\n",
              "\n",
              "    .dataframe thead th {\n",
              "        text-align: right;\n",
              "    }\n",
              "</style>\n",
              "<table border=\"1\" class=\"dataframe\">\n",
              "  <thead>\n",
              "    <tr style=\"text-align: right;\">\n",
              "      <th></th>\n",
              "      <th>Title</th>\n",
              "      <th>URL</th>\n",
              "      <th>PDF_URL</th>\n",
              "      <th>Authors</th>\n",
              "      <th>Citation</th>\n",
              "      <th>Year of Publish</th>\n",
              "      <th>Content</th>\n",
              "    </tr>\n",
              "  </thead>\n",
              "  <tbody>\n",
              "    <tr>\n",
              "      <th>0</th>\n",
              "      <td>17th Annual Meeting of the Association for Com...</td>\n",
              "      <td>https://aclanthology.org/P79-1000/</td>\n",
              "      <td>https://aclanthology.org/P79-1000.pdf</td>\n",
              "      <td>NaN</td>\n",
              "      <td>0.0</td>\n",
              "      <td>1979.0</td>\n",
              "      <td>b'                                   Front Mat...</td>\n",
              "    </tr>\n",
              "    <tr>\n",
              "      <th>1</th>\n",
              "      <td>Syntactic Processing</td>\n",
              "      <td>https://aclanthology.org/P79-1001/</td>\n",
              "      <td>https://aclanthology.org/P79-1001.pdf</td>\n",
              "      <td>NaN</td>\n",
              "      <td>73.0</td>\n",
              "      <td>1979.0</td>\n",
              "      <td>b'                                        Synt...</td>\n",
              "    </tr>\n",
              "    <tr>\n",
              "      <th>2</th>\n",
              "      <td>Towards a Self-Extending Parser</td>\n",
              "      <td>https://aclanthology.org/P79-1002/</td>\n",
              "      <td>https://aclanthology.org/P79-1002.pdf</td>\n",
              "      <td>NaN</td>\n",
              "      <td>72.0</td>\n",
              "      <td>1979.0</td>\n",
              "      <td>b'                                        TOWA...</td>\n",
              "    </tr>\n",
              "    <tr>\n",
              "      <th>3</th>\n",
              "      <td>Word Expert Parsing</td>\n",
              "      <td>https://aclanthology.org/P79-1003/</td>\n",
              "      <td>https://aclanthology.org/P79-1003.pdf</td>\n",
              "      <td>NaN</td>\n",
              "      <td>13.0</td>\n",
              "      <td>1979.0</td>\n",
              "      <td>b'                                        WORD...</td>\n",
              "    </tr>\n",
              "    <tr>\n",
              "      <th>4</th>\n",
              "      <td>Toward a Computational Theory of Speech Percep...</td>\n",
              "      <td>https://aclanthology.org/P79-1005/</td>\n",
              "      <td>https://aclanthology.org/P79-1005.pdf</td>\n",
              "      <td>NaN</td>\n",
              "      <td>0.0</td>\n",
              "      <td>1979.0</td>\n",
              "      <td>b'                                        TOWA...</td>\n",
              "    </tr>\n",
              "    <tr>\n",
              "      <th>...</th>\n",
              "      <td>...</td>\n",
              "      <td>...</td>\n",
              "      <td>...</td>\n",
              "      <td>...</td>\n",
              "      <td>...</td>\n",
              "      <td>...</td>\n",
              "      <td>...</td>\n",
              "    </tr>\n",
              "    <tr>\n",
              "      <th>1995</th>\n",
              "      <td>Unsupervised Language Model Adaptation Incorpo...</td>\n",
              "      <td>https://aclanthology.org/P07-1085/</td>\n",
              "      <td>https://aclanthology.org/P07-1085.pdf</td>\n",
              "      <td>Yang Liu</td>\n",
              "      <td>0.0</td>\n",
              "      <td>2007.0</td>\n",
              "      <td>b'                                            ...</td>\n",
              "    </tr>\n",
              "    <tr>\n",
              "      <th>1996</th>\n",
              "      <td>Coordinate Noun Phrase Disambiguation in a Gen...</td>\n",
              "      <td>https://aclanthology.org/P07-1086/</td>\n",
              "      <td>https://aclanthology.org/P07-1086.pdf</td>\n",
              "      <td>NaN</td>\n",
              "      <td>0.0</td>\n",
              "      <td>2007.0</td>\n",
              "      <td>b'                                            ...</td>\n",
              "    </tr>\n",
              "    <tr>\n",
              "      <th>1997</th>\n",
              "      <td>A Unified Tagging Approach to Text Normalization</td>\n",
              "      <td>https://aclanthology.org/P07-1087/</td>\n",
              "      <td>https://aclanthology.org/P07-1087.pdf</td>\n",
              "      <td>Jie Tang, Hang Li, Hwee Tou Ng, Tiejun Zhao</td>\n",
              "      <td>0.0</td>\n",
              "      <td>2007.0</td>\n",
              "      <td>b'                                            ...</td>\n",
              "    </tr>\n",
              "    <tr>\n",
              "      <th>1998</th>\n",
              "      <td>Forest-to-String Statistical Translation Rules</td>\n",
              "      <td>https://aclanthology.org/P07-1089/</td>\n",
              "      <td>https://aclanthology.org/P07-1089.pdf</td>\n",
              "      <td>Yun Huang, Qun Liu, Shouxun Lin</td>\n",
              "      <td>0.0</td>\n",
              "      <td>2007.0</td>\n",
              "      <td>b'                                            ...</td>\n",
              "    </tr>\n",
              "    <tr>\n",
              "      <th>1999</th>\n",
              "      <td>Ordering Phrases with Function Words</td>\n",
              "      <td>https://aclanthology.org/P07-1090/</td>\n",
              "      <td>https://aclanthology.org/P07-1090.pdf</td>\n",
              "      <td>Min-Yen Kan, Haizhou Li</td>\n",
              "      <td>0.0</td>\n",
              "      <td>2007.0</td>\n",
              "      <td>b'                                            ...</td>\n",
              "    </tr>\n",
              "  </tbody>\n",
              "</table>\n",
              "<p>2000 rows × 7 columns</p>\n",
              "</div>"
            ],
            "text/plain": [
              "                                                  Title  \\\n",
              "0     17th Annual Meeting of the Association for Com...   \n",
              "1                                  Syntactic Processing   \n",
              "2                       Towards a Self-Extending Parser   \n",
              "3                                   Word Expert Parsing   \n",
              "4     Toward a Computational Theory of Speech Percep...   \n",
              "...                                                 ...   \n",
              "1995  Unsupervised Language Model Adaptation Incorpo...   \n",
              "1996  Coordinate Noun Phrase Disambiguation in a Gen...   \n",
              "1997   A Unified Tagging Approach to Text Normalization   \n",
              "1998     Forest-to-String Statistical Translation Rules   \n",
              "1999               Ordering Phrases with Function Words   \n",
              "\n",
              "                                     URL  \\\n",
              "0     https://aclanthology.org/P79-1000/   \n",
              "1     https://aclanthology.org/P79-1001/   \n",
              "2     https://aclanthology.org/P79-1002/   \n",
              "3     https://aclanthology.org/P79-1003/   \n",
              "4     https://aclanthology.org/P79-1005/   \n",
              "...                                  ...   \n",
              "1995  https://aclanthology.org/P07-1085/   \n",
              "1996  https://aclanthology.org/P07-1086/   \n",
              "1997  https://aclanthology.org/P07-1087/   \n",
              "1998  https://aclanthology.org/P07-1089/   \n",
              "1999  https://aclanthology.org/P07-1090/   \n",
              "\n",
              "                                    PDF_URL  \\\n",
              "0     https://aclanthology.org/P79-1000.pdf   \n",
              "1     https://aclanthology.org/P79-1001.pdf   \n",
              "2     https://aclanthology.org/P79-1002.pdf   \n",
              "3     https://aclanthology.org/P79-1003.pdf   \n",
              "4     https://aclanthology.org/P79-1005.pdf   \n",
              "...                                     ...   \n",
              "1995  https://aclanthology.org/P07-1085.pdf   \n",
              "1996  https://aclanthology.org/P07-1086.pdf   \n",
              "1997  https://aclanthology.org/P07-1087.pdf   \n",
              "1998  https://aclanthology.org/P07-1089.pdf   \n",
              "1999  https://aclanthology.org/P07-1090.pdf   \n",
              "\n",
              "                                          Authors  Citation  Year of Publish  \\\n",
              "0                                             NaN       0.0           1979.0   \n",
              "1                                             NaN      73.0           1979.0   \n",
              "2                                             NaN      72.0           1979.0   \n",
              "3                                             NaN      13.0           1979.0   \n",
              "4                                             NaN       0.0           1979.0   \n",
              "...                                           ...       ...              ...   \n",
              "1995                                     Yang Liu       0.0           2007.0   \n",
              "1996                                          NaN       0.0           2007.0   \n",
              "1997  Jie Tang, Hang Li, Hwee Tou Ng, Tiejun Zhao       0.0           2007.0   \n",
              "1998              Yun Huang, Qun Liu, Shouxun Lin       0.0           2007.0   \n",
              "1999                      Min-Yen Kan, Haizhou Li       0.0           2007.0   \n",
              "\n",
              "                                                Content  \n",
              "0     b'                                   Front Mat...  \n",
              "1     b'                                        Synt...  \n",
              "2     b'                                        TOWA...  \n",
              "3     b'                                        WORD...  \n",
              "4     b'                                        TOWA...  \n",
              "...                                                 ...  \n",
              "1995  b'                                            ...  \n",
              "1996  b'                                            ...  \n",
              "1997  b'                                            ...  \n",
              "1998  b'                                            ...  \n",
              "1999  b'                                            ...  \n",
              "\n",
              "[2000 rows x 7 columns]"
            ]
          },
          "execution_count": 116,
          "metadata": {},
          "output_type": "execute_result"
        }
      ],
      "source": [
        "X.head(2000) "
      ]
    },
    {
      "cell_type": "markdown",
      "id": "4g1tIZlCpElF",
      "metadata": {
        "id": "4g1tIZlCpElF"
      },
      "source": [
        "# Data information"
      ]
    },
    {
      "cell_type": "code",
      "execution_count": null,
      "id": "7ec55b7f",
      "metadata": {
        "id": "7ec55b7f",
        "outputId": "0914b616-c48d-47ae-fe8d-fde1a8b48aec"
      },
      "outputs": [
        {
          "name": "stdout",
          "output_type": "stream",
          "text": [
            "<class 'pandas.core.frame.DataFrame'>\n",
            "RangeIndex: 8747 entries, 0 to 8746\n",
            "Data columns (total 7 columns):\n",
            " #   Column           Non-Null Count  Dtype  \n",
            "---  ------           --------------  -----  \n",
            " 0   Title            8747 non-null   object \n",
            " 1   URL              8747 non-null   object \n",
            " 2   PDF_URL          8747 non-null   object \n",
            " 3   Authors          7597 non-null   object \n",
            " 4   Citation         8747 non-null   float64\n",
            " 5   Year of Publish  8747 non-null   float64\n",
            " 6   Content          8747 non-null   object \n",
            "dtypes: float64(2), object(5)\n",
            "memory usage: 478.5+ KB\n"
          ]
        }
      ],
      "source": [
        "X.info() "
      ]
    },
    {
      "cell_type": "markdown",
      "id": "rB1wYWjkpO6L",
      "metadata": {
        "id": "rB1wYWjkpO6L"
      },
      "source": [
        "# TF-IDF calculation"
      ]
    },
    {
      "cell_type": "code",
      "execution_count": null,
      "id": "b11051fd",
      "metadata": {
        "id": "b11051fd"
      },
      "outputs": [],
      "source": [
        "text_content = X['Content'] \n",
        "vector = TfidfVectorizer(max_df=0.2,         # drop words that occur in more than X percent of documents\n",
        "                             #min_df=8,      # only use words that appear at least X times\n",
        "                             stop_words='english', \n",
        "                             lowercase=True, \n",
        "                             use_idf=True,   \n",
        "                             norm=u'l2',     \n",
        "                             smooth_idf=True \n",
        "                            )\n",
        "tfidf = vector.fit_transform(text_content) "
      ]
    },
    {
      "cell_type": "code",
      "execution_count": null,
      "id": "776aef81",
      "metadata": {
        "id": "776aef81"
      },
      "outputs": [],
      "source": [
        "def search(tfidf_matrix,model,request, top_n = 5):\n",
        "    request_transform = model.transform([request])\n",
        "    similarity = np.dot(request_transform,np.transpose(tfidf_matrix))\n",
        "    x = np.array(similarity.toarray()[0])\n",
        "    indices=np.argsort(x)[-5:][::-1]\n",
        "    return indices \n",
        "\n",
        "def find_similar(tfidf_matrix, index, top_n = 5):\n",
        "    cosine_similarities = linear_kernel(tfidf_matrix[index:index+1], tfidf_matrix).flatten()\n",
        "    related_docs_indices = [i for i in cosine_similarities.argsort()[::-1] if i != index]\n",
        "    return [index for index in related_docs_indices][0:top_n]    \n",
        " \n",
        "def print_result(request_content,indices,X):\n",
        "    print('\\nsearch : ' + request_content)\n",
        "    print('\\nBest Results :') \n",
        "    for i in indices:\n",
        "        print('id = {0:5d} - title = {1}'.format(i,X['Title'].loc[i])) "
      ]
    },
    {
      "cell_type": "code",
      "execution_count": null,
      "id": "f9dacd11",
      "metadata": {
        "id": "f9dacd11",
        "outputId": "3e5342c9-2c49-4ae3-da92-7020f6426c25"
      },
      "outputs": [
        {
          "name": "stdout",
          "output_type": "stream",
          "text": [
            "\n",
            "search : Ordering Phrases with Function Words\n",
            "\n",
            "Best Results :\n",
            "id =  3619 - title = Dependency-based Pre-ordering for Chinese-English Machine Translation\n",
            "id =  2926 - title = Sentence Ordering Driven by Local and Global Coherence for Summary Generation\n",
            "id =  1680 - title = A Bottom-Up Approach to Sentence Ordering for Multi-Document Summarization\n",
            "id =  2851 - title = Semi-Supervised Modeling for Prenominal Modifier Ordering\n",
            "id =  3316 - title = Learning to Order Natural Language Texts\n"
          ]
        }
      ],
      "source": [
        "request = 'Ordering Phrases with Function Words'\n",
        "\n",
        "result = search(tfidf,vector, request, top_n = 5)\n",
        "print_result(request,result,X) "
      ]
    },
    {
      "cell_type": "code",
      "execution_count": null,
      "id": "10c6d8d5",
      "metadata": {
        "id": "10c6d8d5",
        "outputId": "06927614-c90a-46cc-d79c-436f6fc75a7d"
      },
      "outputs": [],
      "source": [
        "print(X['Content'][1308]) "
      ]
    },
    {
      "cell_type": "code",
      "execution_count": null,
      "id": "74e9be5b",
      "metadata": {
        "id": "74e9be5b",
        "outputId": "b37947b7-7f5a-4463-d5b2-3d3ae7121b49"
      },
      "outputs": [
        {
          "name": "stdout",
          "output_type": "stream",
          "text": [
            "A Noisy-Channel Model for Document Compression\n",
            "2002.0\n"
          ]
        }
      ],
      "source": [
        "print(X['Title'][1308]) \n",
        "print(X['Year of Publish'][1308]) "
      ]
    },
    {
      "cell_type": "code",
      "execution_count": null,
      "id": "5818f10c",
      "metadata": {
        "id": "5818f10c",
        "outputId": "eaa02385-6461-4556-d21c-60130571adae"
      },
      "outputs": [
        {
          "name": "stdout",
          "output_type": "stream",
          "text": [
            "\n",
            "search : 1308 - title = A Noisy-Channel Model for Document Compression\n",
            "\n",
            "Best Results :\n",
            "id =  2968 - title = Text-level Discourse Parsing with Rich Linguistic Features\n",
            "id =  3090 - title = A Two-step Approach to Sentence Compression of Spoken Utterances\n",
            "id =  2205 - title = Mining Wikipedia Revision Histories for Improving Sentence Compression\n",
            "id =  4004 - title = Learning Representations for Text-level Discourse Parsing\n",
            "id =  4404 - title = Joint Modeling of Content and Discourse Relations in Dialogues\n"
          ]
        }
      ],
      "source": [
        "index = 1308 \n",
        "result = find_similar(tfidf, index, top_n = 5) \n",
        "print_result('1308 - title = A Noisy-Channel Model for Document Compression', result, X)"
      ]
    }
  ],
  "metadata": {
    "colab": {
      "collapsed_sections": [],
      "include_colab_link": true,
      "provenance": []
    },
    "kernelspec": {
      "display_name": "Python 3.9.11 64-bit",
      "language": "python",
      "name": "python3"
    },
    "language_info": {
      "codemirror_mode": {
        "name": "ipython",
        "version": 3
      },
      "file_extension": ".py",
      "mimetype": "text/x-python",
      "name": "python",
      "nbconvert_exporter": "python",
      "pygments_lexer": "ipython3",
      "version": "3.9.11"
    },
    "vscode": {
      "interpreter": {
        "hash": "14958d3aee5f1cad06795f787e54b96185c25fb40dfec723a5be941f3a531b8c"
      }
    }
  },
  "nbformat": 4,
  "nbformat_minor": 5
}
